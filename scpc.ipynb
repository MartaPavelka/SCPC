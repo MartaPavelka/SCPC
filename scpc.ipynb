{
  "nbformat": 4,
  "nbformat_minor": 0,
  "metadata": {
    "colab": {
      "name": "SCPC",
      "provenance": [],
      "collapsed_sections": [],
      "include_colab_link": true
    },
    "kernelspec": {
      "name": "python3",
      "display_name": "Python 3"
    }
  },
  "cells": [
    {
      "cell_type": "markdown",
      "metadata": {
        "id": "view-in-github",
        "colab_type": "text"
      },
      "source": [
        "<a href=\"https://colab.research.google.com/github/martapavelka/scpc/blob/main/scpc.ipynb\" target=\"_parent\"><img src=\"https://colab.research.google.com/assets/colab-badge.svg\" alt=\"Open In Colab\"/></a>"
      ]
    },
    {
      "cell_type": "markdown",
      "metadata": {
        "id": "fkmGf8EwLzjT"
      },
      "source": [
        "# Colab usage\n",
        "1. Set up default values including the list of facets\n",
        "2. Run first two code cells (setup and relabelling function definition)\n",
        "3. Find the desired property cell further down\n",
        "4. Run that cell and check the result at the bottom of the cell"
      ]
    },
    {
      "cell_type": "markdown",
      "metadata": {
        "id": "ecImUZMtc8wb"
      },
      "source": [
        "# Setup"
      ]
    },
    {
      "cell_type": "code",
      "metadata": {
        "colab": {
          "base_uri": "https://localhost:8080/"
        },
        "id": "9JqOxkzVdAtG",
        "outputId": "89ac6956-4724-4138-d8cb-b560a39bc826"
      },
      "source": [
        "from optparse import OptionParser\n",
        "import select\n",
        "import sys\n",
        "\n",
        "###\n",
        "# Set defaults\n",
        "###\n",
        "\n",
        "def_list_of_facets = [[1,2], [1,3], [2,3], [2,4], [3,4], [3,5],[4,5],[4,6], [5,6], [1,5], [1,6], [2,6]]\n",
        "properties = (\"all\", \"under-closed\", \"semi-closed\", \"weakly-closed\", \"d-chordal\", \"closed\", \"almost-closed\")\n",
        "default_property = properties[0]\n",
        "vert_min = 2\n",
        "vert_max = 10\n",
        "\n",
        "###\n",
        "# Process arguments\n",
        "###\n",
        "\n",
        "parser = OptionParser()\n",
        "parser.add_option(\"-p\", \"--property\", action = \"store\", dest = \"property\",\n",
        "                  type = \"choice\", choices = properties, default = default_property,\n",
        "                  help = \"Property to analyze. Valid properties are %s. Default property is %s.\" % (properties, default_property))\n",
        "parser.add_option(\"-f\") # ignore google colab option\n",
        "(options, args) = parser.parse_args()\n",
        "\n",
        "###\n",
        "# Define functions\n",
        "###\n",
        "\n",
        "def exception (str, code = 1):\n",
        "  print(str, file=sys.stderr)\n",
        "  sys.exit(code)\n",
        "\n",
        "def containsConsecutiveSet (num_list, to):\n",
        "  return sorted(set(num_list)) == list(range(1, to + 1))\n",
        "\n",
        "def loadInputMatrix ():\n",
        "  matrix = []\n",
        "  for line in sys.stdin:\n",
        "    matrix.append([int(num) for num in line.split()])\n",
        "  return matrix\n",
        "\n",
        "def run (fn, fn_property):\n",
        "  if options.property != properties[0] and options.property != fn_property:\n",
        "    return\n",
        "  print(\"Searching for %s ... \" % (fn_property), end = '')\n",
        "  labeling = fn(list_of_facets, number_of_vertices)\n",
        "  if labeling:\n",
        "    print(\"[ FOUND ]\")\n",
        "  else:\n",
        "    print(\"[ FAILED ]\")\n",
        "  print(labeling)\n",
        "\n",
        "\n",
        "###\n",
        "# Process and validate variables\n",
        "###\n",
        "\n",
        "if select.select([sys.stdin], [], [], 0.0)[0]:\n",
        "  list_of_facets = loadInputMatrix()\n",
        "try:\n",
        "  list_of_facets\n",
        "except NameError:\n",
        "  list_of_facets = def_list_of_facets\n",
        "\n",
        "list_of_facets_flat = [item for sublist in list_of_facets for item in sublist]\n",
        "number_of_vertices = max(list_of_facets_flat)\n",
        "if number_of_vertices < vert_min or number_of_vertices > vert_max:\n",
        "  exception(\"Number of verticies must be in range %d to %d.\" % (vert_min, vert_max))\n",
        "if not containsConsecutiveSet(list_of_facets_flat, number_of_vertices):\n",
        "  exception(\"Input matrix does not contain a consecutive set from 1 to n.\")\n",
        "\n",
        "print(\"List of facets\")\n",
        "print(list_of_facets)\n",
        "print(\"Number of vertices\")\n",
        "print(number_of_vertices)\n",
        "print(\"Chosen property\")\n",
        "print(options.property)\n"
      ],
      "execution_count": null,
      "outputs": [
        {
          "output_type": "stream",
          "text": [
            "List of facets\n",
            "[[1, 2], [1, 3], [2, 3], [2, 4], [3, 4], [3, 5], [4, 5], [4, 6], [5, 6], [1, 5], [1, 6], [2, 6]]\n",
            "Number of vertices\n",
            "6\n",
            "Chosen property\n",
            "all\n"
          ],
          "name": "stdout"
        }
      ]
    },
    {
      "cell_type": "markdown",
      "metadata": {
        "id": "yHBYMnk6A1lf"
      },
      "source": [
        "# Relabeling vertices (facets) function"
      ]
    },
    {
      "cell_type": "code",
      "metadata": {
        "id": "0mwS6IICS84S"
      },
      "source": [
        "# Function that relabels vertices and therefore facets according to a given permutation \n",
        "\n",
        "def facets_relabeling(facets, perm):\n",
        "  ## Relabaled facets setting to empty array\n",
        "  relabeled_facets = []\n",
        "  ## Number of vertices in a facet (dimension of the complex + 1)\n",
        "  d = len(facets[1])\n",
        "  ## Going througt all the facets of the complex and relabeling\n",
        "  for k in range(0,len(facets)):\n",
        "    ## Setting the k-th relabaled facet to empy array ready to be filled  \n",
        "    relabeled_facet = []\n",
        "    ## Going throuht all the vertices of the k-th facet \n",
        "    for l in range(0,d):\n",
        "      ## Vertex before labeling\n",
        "      vertex = facets[k][l]\n",
        "      ## New label of the vertex\n",
        "      relabaled_vertex = perm[vertex-1]\n",
        "      ## Adding the new label \n",
        "      relabeled_facet.append(relabaled_vertex)\n",
        "    ## Sorting the labels to get increasing labeling of the facet   \n",
        "    relabeled_facet.sort()\n",
        "    ## Adding the relabaled facet to the list of relabaled facets\n",
        "    relabeled_facets.append(relabeled_facet)\n",
        "\n",
        "  return relabeled_facets"
      ],
      "execution_count": null,
      "outputs": []
    },
    {
      "cell_type": "markdown",
      "metadata": {
        "id": "RCOhcAduCbSa"
      },
      "source": [
        "# Under-closed check\n",
        "A pure $d$-dimensional simplicial complex $\\Delta$ is under-closed if there is a vertex labeling of $\\Delta$ such that for every $d$-face $F=a_0a_1\\dots a_d$ (written with $a_0<a_1<\\dots <a_d$) the complex $\\Delta$ contains all faces of the form $a_0b_1b_2\\dots b_d$ with $b_1\\leq a_1$, $b_2\\leq a_2$, $\\dots$, $b_d\\leq a_d$. "
      ]
    },
    {
      "cell_type": "code",
      "metadata": {
        "id": "wMPzclBQt-3S",
        "colab": {
          "base_uri": "https://localhost:8080/"
        },
        "outputId": "12c72a20-9bb0-4ff4-8c16-3677fb9ff5c0"
      },
      "source": [
        "## Function creating list of all potential facets from the under-closed condition\n",
        "## Recursively\n",
        "def expand(input):\n",
        "  output = []\n",
        "  for i in range(input[0]+1, input[1]+1):\n",
        "    if (len(input) == 2):\n",
        "      output.append([input[0], i])\n",
        "      continue\n",
        "    input[1] = i\n",
        "    expanded = expand(input[1:])\n",
        "    for e in expanded:\n",
        "      e.insert(0, input[0])\n",
        "      output.append(e)\n",
        "  return output\n",
        "\n",
        "####################################################################\n",
        "\n",
        "## Checking under-closed condition for a given labeling \n",
        "## Returns True if the labeling is under-closed\n",
        "## Returns False if the labeling is NOT under-closed\n",
        "\n",
        "def underclosed_labeling_check(facets_labeling):\n",
        "  ## Going througt all the facets of the CS \n",
        "  for k in range(0,len(facets_labeling)):\n",
        "  ## Generating list of potencial facets G for given F\n",
        "    under_faces = expand(facets_labeling[k])\n",
        "    for G in under_faces:\n",
        "      ## If G not in the original list of facets --> not under-closed; return False\n",
        "      if (G in facets_labeling)==False:\n",
        "        #print('The labeling', facets_labeling, 'is NOT under-closed. For example the face', G, 'is missing.')\n",
        "        return False\n",
        "  ## If for all facets condition true --> under-closed; return True\n",
        "  else:\n",
        "    #print('The labeling', facets_labeling, 'is under-closed.')\n",
        "    return True  \n",
        "\n",
        "######################################################################\n",
        "\n",
        "## Check UC for all labelings\n",
        "## For every permutation on 'number_of_vertices' elements, we check the desired condition.\n",
        "## Import to print all permutations  \n",
        "from itertools import permutations \n",
        "\n",
        "def underclosed_SC(facets_list, number_of_vert):\n",
        "  ## Get all permutations of [1, 2, ..., number_of_vertices] in the list named perms\n",
        "  perms = list(permutations(list(range(1, number_of_vert+1))) )\n",
        "\n",
        "  ## Go through all the permutations\n",
        "  for perm in perms:\n",
        "    ## Relable the vertices according to new permutation\n",
        "    new_labeling = facets_relabeling(list_of_facets, perm)\n",
        "    ## Check if this labeling makes the CS under-closed\n",
        "    check = underclosed_labeling_check(new_labeling)\n",
        "    if check == True:\n",
        "      return new_labeling\n",
        "  else:\n",
        "    return []\n",
        " \n",
        " ########################################################################\n",
        "\n",
        "run(underclosed_SC, properties[1])\n"
      ],
      "execution_count": null,
      "outputs": [
        {
          "output_type": "stream",
          "text": [
            "Searching for under-closed ... [ FAILED ]\n",
            "[]\n"
          ],
          "name": "stdout"
        }
      ]
    },
    {
      "cell_type": "markdown",
      "metadata": {
        "id": "CLNe6I74CU9z"
      },
      "source": [
        "# Semi-closed check\n",
        "\n",
        "A pure $d$-dimensional simplicial complex $\\Delta$ is semi-closed if there is a vertex labeling of $\\Delta$ such that for every $d$-face $F=a_0a_1\\dots a_d$ (written with $a_0 < a_1<\\dots < a_d$) at least one of the following conditions hold:\n",
        "1. (*underclosed condition*) the complex $\\Delta$ contains all faces of the form $a_0b_1b_2\\dots b_d$ with $b_1\\leq a_1$, $b_2\\leq a_2$, $\\dots$, $b_d\\leq a_d$, or\n",
        "2. the complex $\\Delta$ contains all faces of the form $i_0i_1 \\dots i_{d-1}a_d$ with $i_0\\geq a_0$, $i_1\\geq a_1$, $\\dots$, $i_{d-1} \\geq a_{d-1}$. "
      ]
    },
    {
      "cell_type": "code",
      "metadata": {
        "id": "u9wuXUs5C_Iq",
        "colab": {
          "base_uri": "https://localhost:8080/"
        },
        "outputId": "2c558d10-d58a-4758-899e-8759d8829e7a"
      },
      "source": [
        "## Function creating list of all potential facets from the under-closed condition\n",
        "## Recursively\n",
        "def expand(input):\n",
        "  output = []\n",
        "  for i in range(input[0]+1, input[1]+1):\n",
        "    if (len(input) == 2):\n",
        "      output.append([input[0], i])\n",
        "      continue\n",
        "    input[1] = i\n",
        "    expanded = expand(input[1:])\n",
        "    for e in expanded:\n",
        "      e.insert(0, input[0])\n",
        "      output.append(e)\n",
        "  return output\n",
        "\n",
        "## Function creating list of all potential facets from the second condition\n",
        "## Recursively\n",
        "\n",
        "def expand_inv(input):\n",
        "  inp_len=len(input)\n",
        "  output = []\n",
        "  for i in range(input[-1]-1, input[-2]-1, -1):\n",
        "    if (len(input) == 2):\n",
        "      output.append([i,input[1]])\n",
        "      continue\n",
        "    input[-2] = i\n",
        "    expanded = expand_inv(input[:-1])\n",
        "    for e in expanded:\n",
        "      e.append(input[-1])\n",
        "      output.append(e)\n",
        "  return output\n",
        "\n",
        "###########################################################################\n",
        "\n",
        "## Checking semi-closed condition for a given labeling \n",
        "## Returns True if the labeling is semi-closed\n",
        "## Returns False if the labeling is NOT semi-closed\n",
        "\n",
        "def semi_closed_labeling_check(facets_labeling):\n",
        "  ## Going througt all the facets of the CS \n",
        "  for k in range(0,len(facets_labeling)):\n",
        "  ## Generating lists of potencial facets G for given F\n",
        "    under_faces = expand(facets_labeling[k])\n",
        "    above_faces = expand_inv(facets_labeling[k])\n",
        "    ## Set under and semi_two to True.\n",
        "    ## Will change to False if some face is missing  \n",
        "    under=True\n",
        "    semi_two=True\n",
        "    for G in under_faces:\n",
        "      ## If G not in the underclosed list of facets --> not underclosed; set under to False\n",
        "      if (G in facets_labeling)==False:\n",
        "        under=False\n",
        "        G_under_false=G\n",
        "        break\n",
        "    for G in above_faces:\n",
        "      ## If G not in the semi-closed list of facets --> not SM; set semi_two to False\n",
        "      if (G in facets_labeling)==False:\n",
        "        semi_two=False\n",
        "        G_semi_false=G\n",
        "        break  \n",
        "    ## If both conditions for a given facet False, then the labeling NOT SM\n",
        "    if under==False and semi_two==False:\n",
        "      #print('The labeling', facets_labeling, 'is NOT semi-closed. One of the following facets would have to be present:', G_under_false, 'or', G_semi_false, 'for the facet', facets_labeling[k] )\n",
        "      return False\n",
        "\n",
        "  ## If at least one of the conditions for all the facets True, then the labeling is SM  \n",
        "  else:\n",
        "    #print('The labeling', facets_labeling, 'is semi-closed.')\n",
        "    return True \n",
        "#######################################################################\n",
        "\n",
        "## For every permutation on 'number_of_vertices' elements, we check the desired condition.\n",
        "## Import to print all permutations  \n",
        "from itertools import permutations \n",
        "\n",
        "def semi_closed_SC(facets_list, number_of_vert):\n",
        "  ## Get all permutations of [1, 2, ..., number_of_vertices] in the list named perms\n",
        "  perms = list(permutations(list(range(1, number_of_vert+1))) )\n",
        "\n",
        "  ## Go through all the permutations\n",
        "  for perm in perms:\n",
        "    ## Relable the vertices according to new permutation\n",
        "    new_labeling = facets_relabeling(list_of_facets, perm)\n",
        "    ## Check if this labeling makes the CS underclosed\n",
        "    check = semi_closed_labeling_check(new_labeling)\n",
        "    if check == True:\n",
        "      return new_labeling\n",
        "  else:\n",
        "    return []\n",
        "#########################################################################\n",
        "\n",
        "run(semi_closed_SC, properties[2])\n"
      ],
      "execution_count": null,
      "outputs": [
        {
          "output_type": "stream",
          "text": [
            "Searching for semi-closed ... [ FOUND ]\n",
            "[[1, 2], [1, 3], [2, 3], [2, 6], [3, 6], [3, 5], [5, 6], [4, 6], [4, 5], [1, 5], [1, 4], [2, 4]]\n"
          ],
          "name": "stdout"
        }
      ]
    },
    {
      "cell_type": "markdown",
      "metadata": {
        "id": "x2izbTIZ740C"
      },
      "source": [
        "# Weakly-closed check\n",
        "\n",
        "A pure $d$-dimensional simplicial complex $\\Delta$ is weakly-closed if there is a vertex labeling of $\\Delta$ such that for every $d$-face $F=a_0a_1\\dots a_d$ (written with $a_0<a_1<\\dots <a_d$) and for every $g\\notin F$ with $a_0<g<a_d$ there exists a $d$-face $G$ adjacent to $F$ containing $g$ such that either $\\max G \\neq \\max F$ or $\\min G \\neq \\min F$."
      ]
    },
    {
      "cell_type": "code",
      "metadata": {
        "id": "KMIyILMl-K2M",
        "colab": {
          "base_uri": "https://localhost:8080/"
        },
        "outputId": "968aa83b-5509-4b3c-9552-c303748ecfcb"
      },
      "source": [
        "## Function to check WC condition for a given facet \n",
        "def WC_for_a_facet(F, facets_labeling):\n",
        "  ## Find all g such that a_0 < g < a_d\n",
        "  b = [*range(F[0], F[-1]+1)]\n",
        "  ## Filter those in F\n",
        "  gs = list(set(b)-set(F)) \n",
        "  ## For each g with given condition\n",
        "  for g in gs:\n",
        "    ## Go through all the facets in the CS containig g and check max/min and adjecency\n",
        "    g_ok=False\n",
        "    for G in facets_labeling:\n",
        "      if g in G and (F[0]!=G[0] or F[-1]!=G[-1]) and len(set(F).intersection(G))==len(F)-1:\n",
        "        g_ok=True\n",
        "        break\n",
        "    if g_ok==False:\n",
        "      #!!!print('Missing a suitable facet for ', g, 'adjecent to ', F)\n",
        "      return False\n",
        "  else:\n",
        "      #print('WC condition ok for', F)\n",
        "      return True \n",
        "\n",
        "#####################################################################\n",
        "## Check if a given labeling has the weakly closed condition\n",
        "def WC_labeling_check(facets_labeling): \n",
        "  ## Check all facet with the above function\n",
        "  for F in facets_labeling:\n",
        "    if WC_for_a_facet(F, facets_labeling)==False:\n",
        "      #print('labeling', facets_labeling, 'is not WC')\n",
        "      return False\n",
        "  else:\n",
        "    #print('labeling', facets_labeling, 'is WC')\n",
        "    return True\n",
        "\n",
        "###################################################################\n",
        "## For every permutation on 'number_of_vertices' elements, we check the desired condition.\n",
        "## Import to print all permutations  \n",
        "from itertools import permutations \n",
        "\n",
        "def WC_SC(facets_list, number_of_vert):\n",
        "  ## Get all permutations of [1, 2, ..., number_of_vertices] in the list named perms\n",
        "  perms = list(permutations(list(range(1, number_of_vert+1))) )\n",
        "\n",
        "  ## Go through all the permutations\n",
        "  for perm in perms:\n",
        "    ## Relable the vertices according to new permutation\n",
        "    new_labeling = facets_relabeling(list_of_facets, perm)\n",
        "    ## Check if this labeling makes the CS underclosed\n",
        "    check = WC_labeling_check(new_labeling)\n",
        "    if check == True:\n",
        "      return new_labeling\n",
        "  else:\n",
        "    return []\n",
        "\n",
        "##################################################################\n",
        "run(WC_SC, properties[3])\n"
      ],
      "execution_count": null,
      "outputs": [
        {
          "output_type": "stream",
          "text": [
            "Searching for weakly-closed ... [ FOUND ]\n",
            "[[1, 2], [1, 3], [2, 3], [2, 4], [3, 4], [3, 5], [4, 5], [4, 6], [5, 6], [1, 5], [1, 6], [2, 6]]\n"
          ],
          "name": "stdout"
        }
      ]
    },
    {
      "cell_type": "markdown",
      "metadata": {
        "id": "syrfmbswfKxR"
      },
      "source": [
        "# d-chordal check\n",
        "A pure $d$-dimensional simplicial complex $\\Delta$ is d-chordal if there is a vertex labeling of $\\Delta$ such that for every pair of $d$-faces $F=a_0a_1\\dots a_d$ and $G=b_0b_1\\dots b_d$ (written in increasing order) with  $a_d=b_d$, the complex $\\Delta$ contains the whole $d$-skeleton of the simplex on $F \\cup G$."
      ]
    },
    {
      "cell_type": "code",
      "metadata": {
        "id": "MNTHche-h9R9",
        "colab": {
          "base_uri": "https://localhost:8080/"
        },
        "outputId": "19eebff0-b3d9-441a-a98e-7d2eac56dc89"
      },
      "source": [
        "## Function to check d-chordal condition for given pair of facets *with the same maximum*\n",
        "\n",
        "## A tool to print all combinations of given length \n",
        "from itertools import combinations\n",
        " \n",
        "## Note: not checking for the same max of F and G \n",
        "def d_chordal_for_pair_of_facets(F, G, facets_labeling):\n",
        " \n",
        "  ## Do union of elements of F and G without repetitions\n",
        "  union_F_G = list(set(F + G))\n",
        "  ## Get all combinations of F union G of lenght len(F) == d-skeleton on F unoin G\n",
        "  ## Already sorted!\n",
        "  d_skeleton = [*combinations(union_F_G, len(F))]\n",
        "\n",
        "  for H in d_skeleton:\n",
        "    L=[*H]\n",
        "    if L not in facets_labeling:\n",
        "      # print('This labeling is not d-chordal. Missing face', L, 'for the pair', F, G)\n",
        "      return False\n",
        "  else:\n",
        "    return True \n",
        "\n",
        "##############################################################################\n",
        "## Fucntion to check if a given labeling is d-chordal\n",
        "## Find all facet pairs with the same maximum and check d-chordality condition for them \n",
        "def d_chordal_for_labeling(facets_labeling):\n",
        "\n",
        "  ## Going through all the facet pairs (F, G)\n",
        "  for var in combinations(facets_labeling, 2): \n",
        "    ## If the maximum of F and G is the same, check the d-chord condition\n",
        "    if var[0][-1] == var[1][-1]: \n",
        "      if d_chordal_for_pair_of_facets(var[0], var[1], facets_labeling) == False:\n",
        "        #print('This labeling is not d-chordal. The trouble pair is', var[0], var[1] )\n",
        "        return False \n",
        "      #print('ok pair')\n",
        "  else:\n",
        "     #print('The labeling', facets_labeling, 'is d-chordal')   \n",
        "     return True\n",
        "\n",
        "#############################################################################\n",
        "## For every permutation on 'number_of_vertices' elements, we check the desired condition.\n",
        "## Import to print all permutations  \n",
        "from itertools import permutations \n",
        "\n",
        "def d_chordal_SC(facets_list, number_of_vert):\n",
        "  ## Get all permutations of [1, 2, ..., number_of_vertices] in the list named perms\n",
        "  perms = list(permutations(list(range(1, number_of_vert+1))) )\n",
        "\n",
        "  ## Go through all the permutations\n",
        "  for perm in perms:\n",
        "    ## Relable the vertices according to new permutation\n",
        "    new_labeling = facets_relabeling(list_of_facets, perm)\n",
        "    ## Check if this labeling makes the CS underclosed\n",
        "    check = d_chordal_for_labeling(new_labeling)\n",
        "    if check == True:\n",
        "      return new_labeling\n",
        "  else:\n",
        "    return []\n",
        "\n",
        "##############################################################################\n",
        "\n",
        "run(d_chordal_SC, properties[4])\n"
      ],
      "execution_count": null,
      "outputs": [
        {
          "output_type": "stream",
          "text": [
            "Searching for d-chordal ... [ FAILED ]\n",
            "[]\n"
          ],
          "name": "stdout"
        }
      ]
    },
    {
      "cell_type": "markdown",
      "metadata": {
        "id": "XF13iCcwBOkV"
      },
      "source": [
        "# Closed check\n",
        " A pure $d$-dimensional simplicial complex $\\Delta$ is closed if there exists a vertex labeling of $\\Delta$ such that for every pair of $d$-faces $F=a_0a_1\\dots a_d$ and $G=b_0b_1\\dots b_d$ (written in increasing order) with  $a_i=b_i$ for some $i$, the complex $\\Delta$ contains the full $d$-skeleton of the simplex on $F \\cup G$."
      ]
    },
    {
      "cell_type": "code",
      "metadata": {
        "colab": {
          "base_uri": "https://localhost:8080/"
        },
        "id": "yS8qdM_pA_KW",
        "outputId": "c8f48977-2020-422d-aa98-ccf8a1e19c97"
      },
      "source": [
        "## Function to check closed condition for a given pair of facets\n",
        "\n",
        "## A tool to print all combinations of given length \n",
        "from itertools import combinations \n",
        "\n",
        "## Note: not checking for the same a_i=b_i of F and G \n",
        "def closed_for_pair_of_facets(F, G, facets_labeling):\n",
        " \n",
        "  ## Do union of elements of F and G without repetitions\n",
        "  union_F_G = list(set(F + G))\n",
        "\n",
        "  ## Get all combinations of F union G of lenght len(F) == d-skeleton on F unoin G\n",
        "  ## Already sorted!\n",
        "  d_skeleton = [*combinations(union_F_G, len(F))]\n",
        "  \n",
        "  for H in d_skeleton:\n",
        "    L=[*H]\n",
        "    if L not in facets_labeling:\n",
        "     # print('This labeling is not closed. Missing face', L, 'for the pair', F, G)\n",
        "      return False\n",
        "  else:\n",
        "    return True \n",
        "\n",
        "##############################################################################\n",
        "## Fucntion to check if a given labeling is closed\n",
        "## Find all facet pairs with the same i-th coordinate and check closed condition for them\n",
        "def closed_for_labeling(facets_labeling):\n",
        "\n",
        "  ## Going through all the facet pairs (F, G)\n",
        "  n=len(facets_labeling[0])\n",
        "  for var in combinations(facets_labeling, 2): \n",
        "    ## If the i-th coordinate of F and G is the same, check the closed condition\n",
        "    for i in range(0,n):\n",
        "      if var[0][i] == var[1][i]: \n",
        "        if closed_for_pair_of_facets(var[0], var[1], facets_labeling) == False:\n",
        "          #print('This labeling', facets_labeling,' is not closed. The trouble pair is', var[0], var[1] )\n",
        "          return False \n",
        "        break\n",
        "  else:\n",
        "     #print('The labeling', facets_labeling, 'is closed')   \n",
        "     return True\n",
        "\n",
        "#############################################################################\n",
        "## For every permutation on 'number_of_vertices' elements, we check the desired condition.\n",
        "## Import to print all permutations  \n",
        "from itertools import permutations \n",
        "\n",
        "def closed_SC(facets_list, number_of_vert):\n",
        "  ## Get all permutations of [1, 2, ..., number_of_vertices] in the list named perms\n",
        "  perms = list(permutations(list(range(1, number_of_vert+1))) )\n",
        "\n",
        "  ## Go through all the permutations\n",
        "  for perm in perms:\n",
        "    ## Relable the vertices according to new permutation\n",
        "    new_labeling = facets_relabeling(list_of_facets, perm)\n",
        "    ## Check if this labeling makes the CS underclosed\n",
        "    check = closed_for_labeling(new_labeling)\n",
        "    if check == True:\n",
        "      return new_labeling\n",
        "  else:\n",
        "    return []\n",
        "\n",
        "##############################################################################\n",
        "\n",
        "run(closed_SC, properties[5])\n"
      ],
      "execution_count": null,
      "outputs": [
        {
          "output_type": "stream",
          "text": [
            "Searching for closed ... [ FAILED ]\n",
            "[]\n"
          ],
          "name": "stdout"
        }
      ]
    },
    {
      "cell_type": "markdown",
      "metadata": {
        "id": "ycAT069nQ6od"
      },
      "source": [
        "# Almost-closed CS check\n",
        "Let $\\Delta$ be a pure $d$-dimensional simplicial complex with $n$ vertices. The complex $\\Delta$ is called almost-closed if there exists a labeling $1, \\ldots, n$ of its vertices such that  for any $d$-face $F=a_0 a_1 \\cdots a_d$ of $\\Delta$, the complex $\\Delta$ contains the whole $d$-skeleton of the simplex with vertex set $\\{a_0, a_0 +1, a_0 + 2, \\ldots, a_d\\}$."
      ]
    },
    {
      "cell_type": "code",
      "metadata": {
        "colab": {
          "base_uri": "https://localhost:8080/"
        },
        "id": "JCo0T1-lRlyf",
        "outputId": "99ed297c-561d-491e-e84c-41d15e6e8299"
      },
      "source": [
        "## Function to check almost-closed condition for a given facet\n",
        "\n",
        "def almost_closed_for_facet(F, facets_labeling):\n",
        " \n",
        "  ## Do union of elements of F and G without repetitions\n",
        "  set_for_F = list(range(F[0], F[-1]+1))\n",
        "  # print('facet', F, 'set', set_for_F)\n",
        "  ## A tool to print all combinations of given length \n",
        "  from itertools import combinations \n",
        "    \n",
        "  ## Get all combinations of {a_0, a_0+1, ..., a_d} of lenght len(F) = d-skeleton on the set of vertices\n",
        "  ## Already sorted!\n",
        "  d_skeleton = [*combinations(set_for_F, len(F))]\n",
        "  \n",
        "  #print(d_skeleton)\n",
        "\n",
        "  for H in d_skeleton:\n",
        "    L=[*H]\n",
        "    if L not in facets_labeling:\n",
        "      #print('This labeling is not almost-closed. Missing face', L, 'for the facet', F)\n",
        "      return False\n",
        "  else:\n",
        "    #print('The facet', F ,'passed the almost-closed test')\n",
        "    return True \n",
        "\n",
        "##############################################################################\n",
        "## Fucntion to check if a given labeling is almost-closed\n",
        "def almost_closed_for_labeling(facets_labeling):\n",
        "  #print(facets_labeling)\n",
        "  ## Going through all the facets F\n",
        "  n=len(facets_labeling[0])\n",
        "  #print('dimension is', n-1)\n",
        "  for var in facets_labeling: \n",
        "    #print(var)\n",
        "    ## check the almost-closed condition\n",
        "    if almost_closed_for_facet(var, facets_labeling) == False:\n",
        "          #print('This labeling', facets_labeling,' is not almost-closed. The trouble facet is', var)\n",
        "          return False \n",
        "  else:\n",
        "     #print('The labeling', facets_labeling, 'is almost-closed')   \n",
        "     return True\n",
        "\n",
        "##############################################################################\n",
        "## For every permutation on 'number_of_vertices' elements, we check the desired condition.\n",
        "## Import to print all permutations  \n",
        "from itertools import permutations \n",
        "\n",
        "def almost_closed_SC(facets_list, number_of_vert):\n",
        "  ## Get all permutations of [1, 2, ..., number_of_vertices] in the list named perms\n",
        "  perms = list(permutations(list(range(1, number_of_vert+1))) )\n",
        "\n",
        "  ## Go through all the permutations\n",
        "  for perm in perms:\n",
        "    ## Relable the vertices according to new permutation\n",
        "    new_labeling = facets_relabeling(list_of_facets, perm)\n",
        "    ## Check if this labeling makes the CS underclosed\n",
        "    check = almost_closed_for_labeling(new_labeling)\n",
        "    if check == True:\n",
        "      return new_labeling\n",
        "  else:\n",
        "    return []\n",
        "\n",
        "##############################################################################\n",
        "\n",
        "run(almost_closed_SC, properties[6])\n"
      ],
      "execution_count": null,
      "outputs": [
        {
          "output_type": "stream",
          "text": [
            "Searching for almost-closed ... [ FAILED ]\n",
            "[]\n"
          ],
          "name": "stdout"
        }
      ]
    }
  ]
}